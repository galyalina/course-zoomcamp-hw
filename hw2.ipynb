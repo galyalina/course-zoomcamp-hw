{
 "cells": [
  {
   "cell_type": "markdown",
   "source": [
    "# HW - create a regression model for predicting housing prices"
   ],
   "metadata": {
    "collapsed": false,
    "pycharm": {
     "name": "#%% md\n"
    }
   }
  },
  {
   "cell_type": "code",
   "execution_count": 370,
   "outputs": [],
   "source": [
    "from pathlib import Path\n",
    "\n",
    "Path('../data').mkdir(parents=True, exist_ok=True)\n",
    "data_housing_file = Path('../data/data_housing.csv').resolve()\n",
    "\n",
    "if not data_housing_file.exists():\n",
    "    !wget https://raw.githubusercontent.com/alexeygrigorev/datasets/master/housing.csv --output-document=$data_housing_file"
   ],
   "metadata": {
    "collapsed": false,
    "pycharm": {
     "name": "#%%\n"
    }
   }
  },
  {
   "cell_type": "code",
   "execution_count": 371,
   "outputs": [
    {
     "data": {
      "text/plain": "   longitude  latitude  housing_median_age  total_rooms  total_bedrooms  \\\n0    -122.23     37.88                41.0        880.0           129.0   \n1    -122.22     37.86                21.0       7099.0          1106.0   \n2    -122.24     37.85                52.0       1467.0           190.0   \n3    -122.25     37.85                52.0       1274.0           235.0   \n4    -122.25     37.85                52.0       1627.0           280.0   \n\n   population  households  median_income  median_house_value  \n0       322.0       126.0         8.3252            452600.0  \n1      2401.0      1138.0         8.3014            358500.0  \n2       496.0       177.0         7.2574            352100.0  \n3       558.0       219.0         5.6431            341300.0  \n4       565.0       259.0         3.8462            342200.0  ",
      "text/html": "<div>\n<style scoped>\n    .dataframe tbody tr th:only-of-type {\n        vertical-align: middle;\n    }\n\n    .dataframe tbody tr th {\n        vertical-align: top;\n    }\n\n    .dataframe thead th {\n        text-align: right;\n    }\n</style>\n<table border=\"1\" class=\"dataframe\">\n  <thead>\n    <tr style=\"text-align: right;\">\n      <th></th>\n      <th>longitude</th>\n      <th>latitude</th>\n      <th>housing_median_age</th>\n      <th>total_rooms</th>\n      <th>total_bedrooms</th>\n      <th>population</th>\n      <th>households</th>\n      <th>median_income</th>\n      <th>median_house_value</th>\n    </tr>\n  </thead>\n  <tbody>\n    <tr>\n      <th>0</th>\n      <td>-122.23</td>\n      <td>37.88</td>\n      <td>41.0</td>\n      <td>880.0</td>\n      <td>129.0</td>\n      <td>322.0</td>\n      <td>126.0</td>\n      <td>8.3252</td>\n      <td>452600.0</td>\n    </tr>\n    <tr>\n      <th>1</th>\n      <td>-122.22</td>\n      <td>37.86</td>\n      <td>21.0</td>\n      <td>7099.0</td>\n      <td>1106.0</td>\n      <td>2401.0</td>\n      <td>1138.0</td>\n      <td>8.3014</td>\n      <td>358500.0</td>\n    </tr>\n    <tr>\n      <th>2</th>\n      <td>-122.24</td>\n      <td>37.85</td>\n      <td>52.0</td>\n      <td>1467.0</td>\n      <td>190.0</td>\n      <td>496.0</td>\n      <td>177.0</td>\n      <td>7.2574</td>\n      <td>352100.0</td>\n    </tr>\n    <tr>\n      <th>3</th>\n      <td>-122.25</td>\n      <td>37.85</td>\n      <td>52.0</td>\n      <td>1274.0</td>\n      <td>235.0</td>\n      <td>558.0</td>\n      <td>219.0</td>\n      <td>5.6431</td>\n      <td>341300.0</td>\n    </tr>\n    <tr>\n      <th>4</th>\n      <td>-122.25</td>\n      <td>37.85</td>\n      <td>52.0</td>\n      <td>1627.0</td>\n      <td>280.0</td>\n      <td>565.0</td>\n      <td>259.0</td>\n      <td>3.8462</td>\n      <td>342200.0</td>\n    </tr>\n  </tbody>\n</table>\n</div>"
     },
     "execution_count": 371,
     "metadata": {},
     "output_type": "execute_result"
    }
   ],
   "source": [
    "import pandas as pd\n",
    "\n",
    "usecols = ['latitude',\n",
    "           'longitude',\n",
    "           'housing_median_age',\n",
    "           'total_rooms',\n",
    "           'total_bedrooms',\n",
    "           'population',\n",
    "           'households',\n",
    "           'median_income',\n",
    "           'median_house_value']\n",
    "df = pd.read_csv(data_housing_file, usecols=usecols)\n",
    "df.head()"
   ],
   "metadata": {
    "collapsed": false,
    "pycharm": {
     "name": "#%%\n"
    }
   }
  },
  {
   "cell_type": "code",
   "execution_count": 372,
   "outputs": [
    {
     "data": {
      "text/plain": "(20640, 9)"
     },
     "execution_count": 372,
     "metadata": {},
     "output_type": "execute_result"
    }
   ],
   "source": [
    "df.shape"
   ],
   "metadata": {
    "collapsed": false,
    "pycharm": {
     "name": "#%%\n"
    }
   }
  },
  {
   "cell_type": "code",
   "execution_count": 373,
   "outputs": [
    {
     "data": {
      "text/plain": "   longitude  latitude  housing_median_age  total_rooms  total_bedrooms  \\\n0    -122.23     37.88                41.0        880.0           129.0   \n1    -122.22     37.86                21.0       7099.0          1106.0   \n2    -122.24     37.85                52.0       1467.0           190.0   \n3    -122.25     37.85                52.0       1274.0           235.0   \n4    -122.25     37.85                52.0       1627.0           280.0   \n\n   population  households  median_income  median_house_value  \n0       322.0       126.0         8.3252            452600.0  \n1      2401.0      1138.0         8.3014            358500.0  \n2       496.0       177.0         7.2574            352100.0  \n3       558.0       219.0         5.6431            341300.0  \n4       565.0       259.0         3.8462            342200.0  ",
      "text/html": "<div>\n<style scoped>\n    .dataframe tbody tr th:only-of-type {\n        vertical-align: middle;\n    }\n\n    .dataframe tbody tr th {\n        vertical-align: top;\n    }\n\n    .dataframe thead th {\n        text-align: right;\n    }\n</style>\n<table border=\"1\" class=\"dataframe\">\n  <thead>\n    <tr style=\"text-align: right;\">\n      <th></th>\n      <th>longitude</th>\n      <th>latitude</th>\n      <th>housing_median_age</th>\n      <th>total_rooms</th>\n      <th>total_bedrooms</th>\n      <th>population</th>\n      <th>households</th>\n      <th>median_income</th>\n      <th>median_house_value</th>\n    </tr>\n  </thead>\n  <tbody>\n    <tr>\n      <th>0</th>\n      <td>-122.23</td>\n      <td>37.88</td>\n      <td>41.0</td>\n      <td>880.0</td>\n      <td>129.0</td>\n      <td>322.0</td>\n      <td>126.0</td>\n      <td>8.3252</td>\n      <td>452600.0</td>\n    </tr>\n    <tr>\n      <th>1</th>\n      <td>-122.22</td>\n      <td>37.86</td>\n      <td>21.0</td>\n      <td>7099.0</td>\n      <td>1106.0</td>\n      <td>2401.0</td>\n      <td>1138.0</td>\n      <td>8.3014</td>\n      <td>358500.0</td>\n    </tr>\n    <tr>\n      <th>2</th>\n      <td>-122.24</td>\n      <td>37.85</td>\n      <td>52.0</td>\n      <td>1467.0</td>\n      <td>190.0</td>\n      <td>496.0</td>\n      <td>177.0</td>\n      <td>7.2574</td>\n      <td>352100.0</td>\n    </tr>\n    <tr>\n      <th>3</th>\n      <td>-122.25</td>\n      <td>37.85</td>\n      <td>52.0</td>\n      <td>1274.0</td>\n      <td>235.0</td>\n      <td>558.0</td>\n      <td>219.0</td>\n      <td>5.6431</td>\n      <td>341300.0</td>\n    </tr>\n    <tr>\n      <th>4</th>\n      <td>-122.25</td>\n      <td>37.85</td>\n      <td>52.0</td>\n      <td>1627.0</td>\n      <td>280.0</td>\n      <td>565.0</td>\n      <td>259.0</td>\n      <td>3.8462</td>\n      <td>342200.0</td>\n    </tr>\n  </tbody>\n</table>\n</div>"
     },
     "execution_count": 373,
     "metadata": {},
     "output_type": "execute_result"
    }
   ],
   "source": [
    "list(df.dtypes.index)\n",
    "df.columns = df.columns.str.lower().str.replace(' ', '_')\n",
    "\n",
    "string_columns = list(df.dtypes[df.dtypes == 'object'].index)\n",
    "\n",
    "for col in string_columns:\n",
    "    df[col] = df[col].str.lower().str.replace(' ', '_')\n",
    "df.head()"
   ],
   "metadata": {
    "collapsed": false,
    "pycharm": {
     "name": "#%%\n"
    }
   }
  },
  {
   "cell_type": "code",
   "execution_count": 374,
   "outputs": [
    {
     "name": "stdout",
     "output_type": "stream",
     "text": [
      "longitude\n",
      "[-122.23 -122.22 -122.24 -122.25 -122.26]\n",
      "num of unique: 844\n",
      "\n",
      "latitude\n",
      "[37.88 37.86 37.85 37.84 37.83]\n",
      "num of unique: 862\n",
      "\n",
      "housing_median_age\n",
      "[41. 21. 52. 42. 50.]\n",
      "num of unique: 52\n",
      "\n",
      "total_rooms\n",
      "[ 880. 7099. 1467. 1274. 1627.]\n",
      "num of unique: 5926\n",
      "\n",
      "total_bedrooms\n",
      "[ 129. 1106.  190.  235.  280.]\n",
      "num of unique: 1923\n",
      "\n",
      "population\n",
      "[ 322. 2401.  496.  558.  565.]\n",
      "num of unique: 3888\n",
      "\n",
      "households\n",
      "[ 126. 1138.  177.  219.  259.]\n",
      "num of unique: 1815\n",
      "\n",
      "median_income\n",
      "[8.3252 8.3014 7.2574 5.6431 3.8462]\n",
      "num of unique: 12928\n",
      "\n",
      "median_house_value\n",
      "[452600. 358500. 352100. 341300. 342200.]\n",
      "num of unique: 3842\n",
      "\n"
     ]
    }
   ],
   "source": [
    "for col in df.columns:\n",
    "    print(col)\n",
    "    print(df[col].unique()[:5])\n",
    "    print(f\"num of unique: {df[col].nunique()}\")\n",
    "    print()"
   ],
   "metadata": {
    "collapsed": false,
    "pycharm": {
     "name": "#%%\n"
    }
   }
  },
  {
   "cell_type": "code",
   "execution_count": 375,
   "outputs": [
    {
     "data": {
      "text/plain": "<Figure size 600x400 with 1 Axes>",
      "image/png": "[encoded data removed]"
     },
     "metadata": {},
     "output_type": "display_data"
    }
   ],
   "source": [
    "from matplotlib import pyplot as plt\n",
    "#lib on top of plot lib\n",
    "import seaborn as sns\n",
    "\n",
    "%matplotlib inline\n",
    "\n",
    "plt.figure(figsize=(6, 4))\n",
    "\n",
    "sns.histplot(df.median_house_value, bins=100, color='black', alpha=1)\n",
    "plt.ylabel('Frequency')\n",
    "plt.xlabel('Value')\n",
    "plt.title('Distribution of values')\n",
    "\n",
    "plt.show()"
   ],
   "metadata": {
    "collapsed": false,
    "pycharm": {
     "name": "#%%\n"
    }
   }
  },
  {
   "cell_type": "code",
   "execution_count": 376,
   "outputs": [
    {
     "data": {
      "text/plain": "<Figure size 640x480 with 1 Axes>",
      "image/png": "[encoded data removed]"
     },
     "metadata": {},
     "output_type": "display_data"
    }
   ],
   "source": [
    "import numpy as np\n",
    "median_house_value_log = np.log1p(df.median_house_value)\n",
    "sns.histplot(median_house_value_log, bins=100, color='black', alpha=1)\n",
    "plt.ylabel('Frequency')\n",
    "plt.xlabel('value')\n",
    "plt.title('Distribution of values')\n",
    "\n",
    "plt.show()"
   ],
   "metadata": {
    "collapsed": false,
    "pycharm": {
     "name": "#%%\n"
    }
   }
  },
  {
   "cell_type": "markdown",
   "source": [
    "#### Does it have a long tail? Doesn't look like that"
   ],
   "metadata": {
    "collapsed": false,
    "pycharm": {
     "name": "#%% md\n"
    }
   }
  },
  {
   "cell_type": "markdown",
   "source": [
    "# Question 1 : Find a feature with missing values. How many missing values does it have?"
   ],
   "metadata": {
    "collapsed": false,
    "pycharm": {
     "name": "#%% md\n"
    }
   }
  },
  {
   "cell_type": "code",
   "execution_count": 377,
   "outputs": [
    {
     "data": {
      "text/plain": "total_bedrooms    207\ndtype: int64"
     },
     "execution_count": 377,
     "metadata": {},
     "output_type": "execute_result"
    }
   ],
   "source": [
    "df.isnull().sum()[df.isnull().sum()>0]"
   ],
   "metadata": {
    "collapsed": false,
    "pycharm": {
     "name": "#%%\n"
    }
   }
  },
  {
   "cell_type": "code",
   "execution_count": 378,
   "outputs": [
    {
     "data": {
      "text/plain": "                      count           mean            std         min  \\\nlongitude           20640.0    -119.569704       2.003532   -124.3500   \nlatitude            20640.0      35.631861       2.135952     32.5400   \nhousing_median_age  20640.0      28.639486      12.585558      1.0000   \ntotal_rooms         20640.0    2635.763081    2181.615252      2.0000   \ntotal_bedrooms      20433.0     537.870553     421.385070      1.0000   \npopulation          20640.0    1425.476744    1132.462122      3.0000   \nhouseholds          20640.0     499.539680     382.329753      1.0000   \nmedian_income       20640.0       3.870671       1.899822      0.4999   \nmedian_house_value  20640.0  206855.816909  115395.615874  14999.0000   \n\n                            0%         10%          25%          50%  \\\nlongitude            -124.3500   -122.2900    -121.8000    -118.4900   \nlatitude               32.5400     33.6300      33.9300      34.2600   \nhousing_median_age      1.0000     13.0000      18.0000      29.0000   \ntotal_rooms             2.0000    941.0000    1447.7500    2127.0000   \ntotal_bedrooms          1.0000    198.0000     296.0000     435.0000   \npopulation              3.0000    510.0000     787.0000    1166.0000   \nhouseholds              1.0000    184.0000     280.0000     409.0000   \nmedian_income           0.4999      1.9038       2.5634       3.5348   \nmedian_house_value  14999.0000  82300.0000  119600.0000  179700.0000   \n\n                             75%           90%            95%           99%  \\\nlongitude             -118.01000    -117.25000    -117.080000    -116.29000   \nlatitude                37.71000      38.48000      38.960000      40.62610   \nhousing_median_age      37.00000      46.00000      52.000000      52.00000   \ntotal_rooms           3148.00000    4651.50000    6213.200000   11212.11000   \ntotal_bedrooms         647.00000     965.00000    1275.400000    2221.36000   \npopulation            1725.00000    2566.00000    3288.000000    5805.83000   \nhouseholds             605.00000     890.00000    1162.000000    1982.66000   \nmedian_income            4.74325       6.15921       7.300305      10.59654   \nmedian_house_value  264725.00000  376600.00000  489810.000000  500001.00000   \n\n                            max  \nlongitude             -114.3100  \nlatitude                41.9500  \nhousing_median_age      52.0000  \ntotal_rooms          39320.0000  \ntotal_bedrooms        6445.0000  \npopulation           35682.0000  \nhouseholds            6082.0000  \nmedian_income           15.0001  \nmedian_house_value  500001.0000  ",
      "text/html": "<div>\n<style scoped>\n    .dataframe tbody tr th:only-of-type {\n        vertical-align: middle;\n    }\n\n    .dataframe tbody tr th {\n        vertical-align: top;\n    }\n\n    .dataframe thead th {\n        text-align: right;\n    }\n</style>\n<table border=\"1\" class=\"dataframe\">\n  <thead>\n    <tr style=\"text-align: right;\">\n      <th></th>\n      <th>count</th>\n      <th>mean</th>\n      <th>std</th>\n      <th>min</th>\n      <th>0%</th>\n      <th>10%</th>\n      <th>25%</th>\n      <th>50%</th>\n      <th>75%</th>\n      <th>90%</th>\n      <th>95%</th>\n      <th>99%</th>\n      <th>max</th>\n    </tr>\n  </thead>\n  <tbody>\n    <tr>\n      <th>longitude</th>\n      <td>20640.0</td>\n      <td>-119.569704</td>\n      <td>2.003532</td>\n      <td>-124.3500</td>\n      <td>-124.3500</td>\n      <td>-122.2900</td>\n      <td>-121.8000</td>\n      <td>-118.4900</td>\n      <td>-118.01000</td>\n      <td>-117.25000</td>\n      <td>-117.080000</td>\n      <td>-116.29000</td>\n      <td>-114.3100</td>\n    </tr>\n    <tr>\n      <th>latitude</th>\n      <td>20640.0</td>\n      <td>35.631861</td>\n      <td>2.135952</td>\n      <td>32.5400</td>\n      <td>32.5400</td>\n      <td>33.6300</td>\n      <td>33.9300</td>\n      <td>34.2600</td>\n      <td>37.71000</td>\n      <td>38.48000</td>\n      <td>38.960000</td>\n      <td>40.62610</td>\n      <td>41.9500</td>\n    </tr>\n    <tr>\n      <th>housing_median_age</th>\n      <td>20640.0</td>\n      <td>28.639486</td>\n      <td>12.585558</td>\n      <td>1.0000</td>\n      <td>1.0000</td>\n      <td>13.0000</td>\n      <td>18.0000</td>\n      <td>29.0000</td>\n      <td>37.00000</td>\n      <td>46.00000</td>\n      <td>52.000000</td>\n      <td>52.00000</td>\n      <td>52.0000</td>\n    </tr>\n    <tr>\n      <th>total_rooms</th>\n      <td>20640.0</td>\n      <td>2635.763081</td>\n      <td>2181.615252</td>\n      <td>2.0000</td>\n      <td>2.0000</td>\n      <td>941.0000</td>\n      <td>1447.7500</td>\n      <td>2127.0000</td>\n      <td>3148.00000</td>\n      <td>4651.50000</td>\n      <td>6213.200000</td>\n      <td>11212.11000</td>\n      <td>39320.0000</td>\n    </tr>\n    <tr>\n      <th>total_bedrooms</th>\n      <td>20433.0</td>\n      <td>537.870553</td>\n      <td>421.385070</td>\n      <td>1.0000</td>\n      <td>1.0000</td>\n      <td>198.0000</td>\n      <td>296.0000</td>\n      <td>435.0000</td>\n      <td>647.00000</td>\n      <td>965.00000</td>\n      <td>1275.400000</td>\n      <td>2221.36000</td>\n      <td>6445.0000</td>\n    </tr>\n    <tr>\n      <th>population</th>\n      <td>20640.0</td>\n      <td>1425.476744</td>\n      <td>1132.462122</td>\n      <td>3.0000</td>\n      <td>3.0000</td>\n      <td>510.0000</td>\n      <td>787.0000</td>\n      <td>1166.0000</td>\n      <td>1725.00000</td>\n      <td>2566.00000</td>\n      <td>3288.000000</td>\n      <td>5805.83000</td>\n      <td>35682.0000</td>\n    </tr>\n    <tr>\n      <th>households</th>\n      <td>20640.0</td>\n      <td>499.539680</td>\n      <td>382.329753</td>\n      <td>1.0000</td>\n      <td>1.0000</td>\n      <td>184.0000</td>\n      <td>280.0000</td>\n      <td>409.0000</td>\n      <td>605.00000</td>\n      <td>890.00000</td>\n      <td>1162.000000</td>\n      <td>1982.66000</td>\n      <td>6082.0000</td>\n    </tr>\n    <tr>\n      <th>median_income</th>\n      <td>20640.0</td>\n      <td>3.870671</td>\n      <td>1.899822</td>\n      <td>0.4999</td>\n      <td>0.4999</td>\n      <td>1.9038</td>\n      <td>2.5634</td>\n      <td>3.5348</td>\n      <td>4.74325</td>\n      <td>6.15921</td>\n      <td>7.300305</td>\n      <td>10.59654</td>\n      <td>15.0001</td>\n    </tr>\n    <tr>\n      <th>median_house_value</th>\n      <td>20640.0</td>\n      <td>206855.816909</td>\n      <td>115395.615874</td>\n      <td>14999.0000</td>\n      <td>14999.0000</td>\n      <td>82300.0000</td>\n      <td>119600.0000</td>\n      <td>179700.0000</td>\n      <td>264725.00000</td>\n      <td>376600.00000</td>\n      <td>489810.000000</td>\n      <td>500001.00000</td>\n      <td>500001.0000</td>\n    </tr>\n  </tbody>\n</table>\n</div>"
     },
     "execution_count": 378,
     "metadata": {},
     "output_type": "execute_result"
    }
   ],
   "source": [
    "df.describe(percentiles=[.0, .25, .5, .75, .9, .95, .99, .1]).T"
   ],
   "metadata": {
    "collapsed": false,
    "pycharm": {
     "name": "#%%\n"
    }
   }
  },
  {
   "cell_type": "markdown",
   "source": [
    "# Question 2 : What's the median (50% percentile) for variable 'population'?"
   ],
   "metadata": {
    "collapsed": false,
    "pycharm": {
     "name": "#%% md\n"
    }
   }
  },
  {
   "cell_type": "code",
   "execution_count": 379,
   "outputs": [
    {
     "data": {
      "text/plain": "1166.0"
     },
     "execution_count": 379,
     "metadata": {},
     "output_type": "execute_result"
    }
   ],
   "source": [
    "np.median(df['population'])"
   ],
   "metadata": {
    "collapsed": false,
    "pycharm": {
     "name": "#%%\n"
    }
   }
  },
  {
   "cell_type": "markdown",
   "source": [],
   "metadata": {
    "collapsed": false,
    "pycharm": {
     "name": "#%% md\n"
    }
   }
  },
  {
   "cell_type": "code",
   "execution_count": 380,
   "outputs": [
    {
     "name": "stdout",
     "output_type": "stream",
     "text": [
      "   longitude  latitude  housing_median_age  total_rooms  total_bedrooms  \\\n",
      "0    -119.01     36.06                25.0       1505.0             NaN   \n",
      "1    -119.46     35.14                30.0       2943.0             NaN   \n",
      "2    -122.44     37.80                52.0       3830.0             NaN   \n",
      "3    -118.72     34.28                17.0       3051.0             NaN   \n",
      "4    -121.93     36.62                34.0       2351.0             NaN   \n",
      "\n",
      "   population  households  median_income  \n",
      "0      1392.0       359.0         1.6812  \n",
      "1      1565.0       584.0         2.5313  \n",
      "2      1310.0       963.0         3.4801  \n",
      "3      1705.0       495.0         5.7376  \n",
      "4      1063.0       428.0         3.7250  \n"
     ]
    }
   ],
   "source": [
    "n = len(df)\n",
    "\n",
    "n_val = int(0.2 * n)\n",
    "n_test = int(0.2 * n)\n",
    "n_train = n - (n_val + n_test)\n",
    "\n",
    "idx = np.arange(n)\n",
    "np.random.seed(42)\n",
    "np.random.shuffle(idx)\n",
    "\n",
    "df_shuffled = df.iloc[idx]\n",
    "df_train = df_shuffled.iloc[:n_train].copy()\n",
    "df_val = df_shuffled.iloc[n_train:n_train+n_val].copy()\n",
    "df_test = df_shuffled.iloc[n_train+n_val:].copy()\n",
    "\n",
    "df_train = df_train.reset_index(drop=True)\n",
    "df_val = df_val.reset_index(drop=True)\n",
    "df_test = df_test.reset_index(drop=True)\n",
    "y_train_orig = df_train.median_house_value.values\n",
    "y_val_orig = df_val.median_house_value.values\n",
    "y_test_orig = df_test.median_house_value.values\n",
    "\n",
    "y_train = np.log1p(y_train_orig)\n",
    "y_val = np.log1p(y_val_orig)\n",
    "y_test = np.log1p(y_test_orig)\n",
    "\n",
    "del df_train['median_house_value']\n",
    "del df_val['median_house_value']\n",
    "del df_test['median_house_value']\n",
    "\n",
    "print(df_train.head())"
   ],
   "metadata": {
    "collapsed": false,
    "pycharm": {
     "name": "#%%\n"
    }
   }
  },
  {
   "cell_type": "markdown",
   "source": [
    "### Missing value"
   ],
   "metadata": {
    "collapsed": false,
    "pycharm": {
     "name": "#%% md\n"
    }
   }
  },
  {
   "cell_type": "code",
   "execution_count": 381,
   "outputs": [],
   "source": [
    "check = ['latitude',\n",
    "         'longitude',\n",
    "         'housing_median_age',\n",
    "         'total_rooms',\n",
    "         'total_bedrooms',\n",
    "         'population',\n",
    "         'households',\n",
    "         'median_income'\n",
    "         ]\n",
    "\n",
    "\n",
    "def train_linear_regression(X, y):\n",
    "    ones = np.ones(X.shape[0])\n",
    "    X = np.column_stack([ones, X])\n",
    "\n",
    "    XTX = X.T.dot(X)\n",
    "    XTX_inv = np.linalg.inv(XTX)\n",
    "    w = XTX_inv.dot(X.T).dot(y)\n",
    "\n",
    "    return w[0], w[1:]\n",
    "\n",
    "\n",
    "def prepare_X(df, fillna_value):\n",
    "    df_num = df[check]\n",
    "    df_num = df_num.fillna(fillna_value)\n",
    "    X = df_num.values\n",
    "    return X\n",
    "\n",
    "\n",
    "def rmse(y, y_pred):\n",
    "    error = y_pred - y\n",
    "    mse = (error ** 2).mean()\n",
    "    return np.sqrt(mse)"
   ],
   "metadata": {
    "collapsed": false,
    "pycharm": {
     "name": "#%%\n"
    }
   }
  },
  {
   "cell_type": "markdown",
   "source": [
    "# Question 3 : Which option gives better RMSE?"
   ],
   "metadata": {
    "collapsed": false,
    "pycharm": {
     "name": "#%% md\n"
    }
   }
  },
  {
   "cell_type": "code",
   "execution_count": 382,
   "outputs": [
    {
     "name": "stdout",
     "output_type": "stream",
     "text": [
      "0.32901954\n",
      "0.33\n"
     ]
    }
   ],
   "source": [
    "mean = df_train.total_bedrooms.mean()\n",
    "\n",
    "X_mean_train = prepare_X(df_train, fillna_value=mean)\n",
    "w_0_mean, w_mean = train_linear_regression(X_mean_train, y_train)\n",
    "\n",
    "X_mean_val = prepare_X(df_val, fillna_value=mean)\n",
    "y_mean_pred_val = w_0_mean + X_mean_val.dot(w_mean)\n",
    "\n",
    "print(np.round(rmse(y_val, y_mean_pred_val),8))\n",
    "print(np.round(rmse(y_val, y_mean_pred_val),2))"
   ],
   "metadata": {
    "collapsed": false,
    "pycharm": {
     "name": "#%%\n"
    }
   }
  },
  {
   "cell_type": "code",
   "execution_count": 383,
   "outputs": [
    {
     "name": "stdout",
     "output_type": "stream",
     "text": [
      "0.32953304\n",
      "0.33\n"
     ]
    }
   ],
   "source": [
    "X_null_train = prepare_X(df_train, fillna_value=0)\n",
    "w_0_null, w_null = train_linear_regression(X_null_train, y_train)\n",
    "\n",
    "X_null_val = prepare_X(df_val, fillna_value=0)\n",
    "y_null_pred_val = w_0_null + X_null_val.dot(w_null)\n",
    "\n",
    "print(np.round(rmse(y_val, y_null_pred_val),8))\n",
    "print(np.round(rmse(y_val, y_mean_pred_val),2))"
   ],
   "metadata": {
    "collapsed": false,
    "pycharm": {
     "name": "#%%\n"
    }
   }
  },
  {
   "cell_type": "markdown",
   "source": [
    "# Question 4 : Which r gives the best RMSE?"
   ],
   "metadata": {
    "collapsed": false,
    "pycharm": {
     "name": "#%% md\n"
    }
   }
  },
  {
   "cell_type": "code",
   "execution_count": 384,
   "outputs": [],
   "source": [
    "def train_linear_regression_reg(X, y, r=0.0):\n",
    "    ones = np.ones(X.shape[0])\n",
    "    X = np.column_stack([ones, X])\n",
    "\n",
    "    XTX = X.T.dot(X)\n",
    "    reg = r * np.eye(XTX.shape[0])\n",
    "    XTX = XTX + reg\n",
    "\n",
    "    XTX_inv = np.linalg.inv(XTX)\n",
    "    w = XTX_inv.dot(X.T).dot(y)\n",
    "\n",
    "    return w[0], w[1:]"
   ],
   "metadata": {
    "collapsed": false,
    "pycharm": {
     "name": "#%%\n"
    }
   }
  },
  {
   "cell_type": "code",
   "execution_count": 385,
   "outputs": [
    {
     "name": "stdout",
     "output_type": "stream",
     "text": [
      "0 -11.686975241911805 0.33\n",
      "1e-06 -11.686959176106466 0.33\n",
      "0.0001 -11.685368865381463 0.33\n",
      "0.001 -11.670931318209552 0.33\n",
      "0.01 -11.528493585718884 0.33\n",
      "0.1 -10.274500282155724 0.33\n",
      "1 -4.920480897785023 0.33\n",
      "5 -1.482095745620537 0.34\n",
      "10 -0.7899311832204973 0.34\n"
     ]
    }
   ],
   "source": [
    "for r in [0, 0.000001, 0.0001, 0.001, 0.01, 0.1, 1, 5, 10]:\n",
    "    w_0, w = train_linear_regression_reg(X_null_train, y_train, r=r)\n",
    "    y_null_reg_val = w_0 + X_null_val.dot(w)\n",
    "    rmse_val = np.round(rmse(y_val, y_null_reg_val), 2)\n",
    "    print(r, w_0, rmse_val)"
   ],
   "metadata": {
    "collapsed": false,
    "pycharm": {
     "name": "#%%\n"
    }
   }
  },
  {
   "cell_type": "markdown",
   "source": [
    "# Question 5: What's the standard deviation of all the scores?"
   ],
   "metadata": {
    "collapsed": false,
    "pycharm": {
     "name": "#%% md\n"
    }
   }
  },
  {
   "cell_type": "code",
   "execution_count": 386,
   "outputs": [
    {
     "name": "stdout",
     "output_type": "stream",
     "text": [
      "0 -11.900382138250365 0.34\n",
      "1 -11.732757373224729 0.34\n",
      "2 -11.806729360929001 0.33\n",
      "3 -11.587900347706451 0.34\n",
      "4 -11.389470588473802 0.34\n",
      "5 -11.447114275993977 0.34\n",
      "6 -11.370516351690588 0.35\n",
      "7 -12.473448918447504 0.34\n",
      "8 -11.80028742930196 0.35\n",
      "9 -11.45904683062324 0.34\n"
     ]
    }
   ],
   "source": [
    "rmse_list = []\n",
    "\n",
    "for r in [0, 1, 2, 3, 4, 5, 6, 7, 8, 9]:\n",
    "\n",
    "    idx = np.arange(n)\n",
    "    np.random.seed(r)\n",
    "    np.random.shuffle(idx)\n",
    "\n",
    "    df_shuffled = df.iloc[idx]\n",
    "\n",
    "    df_train = df_shuffled.iloc[:n_train].copy()\n",
    "    df_val = df_shuffled.iloc[n_train:n_train+n_val].copy()\n",
    "    df_test = df_shuffled.iloc[n_train+n_val:].copy()\n",
    "\n",
    "    df_train = df_train.reset_index(drop=True)\n",
    "    df_val = df_val.reset_index(drop=True)\n",
    "    df_test = df_test.reset_index(drop=True)\n",
    "\n",
    "    y_train_orig = df_train.median_house_value.values\n",
    "    y_val_orig = df_val.median_house_value.values\n",
    "    y_test_orig = df_test.median_house_value.values\n",
    "\n",
    "    y_train = np.log1p(y_train_orig)\n",
    "    y_val = np.log1p(y_val_orig)\n",
    "    y_test = np.log1p(y_test_orig)\n",
    "\n",
    "    del df_train['median_house_value']\n",
    "    del df_val['median_house_value']\n",
    "    del df_test['median_house_value']\n",
    "\n",
    "    X_null_train = prepare_X(df_train, fillna_value=0)\n",
    "    w_0, w = train_linear_regression(X_null_train, y_train)\n",
    "\n",
    "    X_null_val = prepare_X(df_val, fillna_value=0)\n",
    "    y_null_reg_val = w_0 + X_null_val.dot(w)\n",
    "    rmse_val = np.round(rmse(y_val, y_null_reg_val),2)\n",
    "\n",
    "    rmse_list.append(rmse_val)\n",
    "\n",
    "    print(r, w_0, rmse_val)"
   ],
   "metadata": {
    "collapsed": false,
    "pycharm": {
     "name": "#%%\n"
    }
   }
  },
  {
   "cell_type": "code",
   "execution_count": 387,
   "outputs": [
    {
     "name": "stdout",
     "output_type": "stream",
     "text": [
      "[0.34, 0.34, 0.33, 0.34, 0.34, 0.34, 0.35, 0.34, 0.35, 0.34]\n"
     ]
    },
    {
     "data": {
      "text/plain": "0.005"
     },
     "execution_count": 387,
     "metadata": {},
     "output_type": "execute_result"
    }
   ],
   "source": [
    "print(rmse_list)\n",
    "np.round(np.std(rmse_list),3)"
   ],
   "metadata": {
    "collapsed": false,
    "pycharm": {
     "name": "#%%\n"
    }
   }
  },
  {
   "cell_type": "markdown",
   "source": [
    "# Question 6: What's the RMSE on the test dataset?"
   ],
   "metadata": {
    "collapsed": false,
    "pycharm": {
     "name": "#%% md\n"
    }
   }
  },
  {
   "cell_type": "code",
   "execution_count": 388,
   "outputs": [],
   "source": [
    "r = 9\n",
    "\n",
    "idx = np.arange(n)\n",
    "np.random.seed(r)\n",
    "np.random.shuffle(idx)\n",
    "\n",
    "df_shuffled = df.iloc[idx]\n",
    "\n",
    "df_train = df_shuffled.iloc[:n_train].copy()\n",
    "df_val = df_shuffled.iloc[n_train:n_train+n_val].copy()\n",
    "df_test = df_shuffled.iloc[n_train+n_val:].copy()\n",
    "\n",
    "frames = [df_train, df_val]\n",
    "df_train_val = pd.concat(frames)\n",
    "\n",
    "df_train_val = df_train_val.reset_index(drop=True)\n",
    "df_test = df_test.reset_index(drop=True)\n",
    "\n",
    "y_train_val_orig = df_train_val.median_house_value.values\n",
    "y_test_orig = df_test.median_house_value.values\n",
    "\n",
    "y_train_val = np.log1p(y_train_val_orig)\n",
    "y_test = np.log1p(y_test_orig)\n",
    "\n",
    "del df_train_val['median_house_value']\n",
    "del df_test['median_house_value']"
   ],
   "metadata": {
    "collapsed": false,
    "pycharm": {
     "name": "#%%\n"
    }
   }
  },
  {
   "cell_type": "code",
   "execution_count": 389,
   "outputs": [
    {
     "data": {
      "text/plain": "0.35"
     },
     "execution_count": 389,
     "metadata": {},
     "output_type": "execute_result"
    }
   ],
   "source": [
    "X_null_train_val = prepare_X(df_train_val, fillna_value=0)\n",
    "w_0_train_val, w_train_val = train_linear_regression_reg(X_null_train_val, y_train_val, r=0.001)\n",
    "\n",
    "X_null_test = prepare_X(df_test, fillna_value=0)\n",
    "y_null_pred_test = w_0_train_val + X_null_test.dot(w_train_val)\n",
    "\n",
    "np.round(rmse(y_test, y_null_pred_test),2)"
   ],
   "metadata": {
    "collapsed": false,
    "pycharm": {
     "name": "#%%\n"
    }
   }
  }
 ],
 "metadata": {
  "kernelspec": {
   "display_name": "Python 3",
   "language": "python",
   "name": "python3"
  },
  "language_info": {
   "codemirror_mode": {
    "name": "ipython",
    "version": 2
   },
   "file_extension": ".py",
   "mimetype": "text/x-python",
   "name": "python",
   "nbconvert_exporter": "python",
   "pygments_lexer": "ipython2",
   "version": "2.7.6"
  }
 },
 "nbformat": 4,
 "nbformat_minor": 0
}